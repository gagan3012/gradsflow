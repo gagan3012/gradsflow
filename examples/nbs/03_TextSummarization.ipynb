{
  "nbformat": 4,
  "nbformat_minor": 0,
  "metadata": {
    "colab": {
      "name": "03-TextSummarization.ipynb",
      "provenance": []
    },
    "kernelspec": {
      "name": "python3",
      "display_name": "Python 3"
    },
    "language_info": {
      "name": "python"
    }
  },
  "cells": [
    {
      "cell_type": "code",
      "metadata": {
        "id": "xYgiH2TkkX7x"
      },
      "source": [
        "!pip install lightning-flash\n",
        "!pip install git+https://github.com/gradsflow/gradsflow@main"
      ],
      "execution_count": null,
      "outputs": []
    },
    {
      "cell_type": "code",
      "metadata": {
        "id": "2_posF7Rj8sH"
      },
      "source": [
        "from flash.core.data.utils import download_data\n",
        "from flash.text import SummarizationData, SummarizationTask\n",
        "\n",
        "# 1. Download the data\n",
        "download_data(\"https://pl-flash-data.s3.amazonaws.com/xsum.zip\", \"data/\")\n",
        "\n",
        "# 2. Load the data\n",
        "datamodule = SummarizationData.from_csv(\n",
        "    \"input\",\n",
        "    \"target\",\n",
        "    train_file=\"data/xsum/train.csv\",\n",
        "    val_file=\"data/xsum/valid.csv\",\n",
        "    test_file=\"data/xsum/test.csv\",\n",
        ")"
      ],
      "execution_count": null,
      "outputs": []
    },
    {
      "cell_type": "code",
      "metadata": {
        "id": "YCYFfKhDkVVK"
      },
      "source": [
        "from gradsflow.autoclassifier import AutoSummarization\n",
        "\n",
        "suggested_conf = dict(\n",
        "    optimizers=[\"adam\"],\n",
        "    lr=(5e-4, 1e-3),\n",
        ")\n",
        "\n",
        "model = AutoSummarization(datamodule,\n",
        "                           suggested_backbones=\"sshleifer/distilbart-cnn-12-6\",\n",
        "                           suggested_conf=suggested_conf,\n",
        "                           max_epochs=1,\n",
        "                           optimization_metric=\"train_loss\",\n",
        "                           timeout=5)\n",
        "\n",
        "print(\"AutoSummarization initialised!\")\n",
        "model.hp_tune()"
      ],
      "execution_count": null,
      "outputs": []
    },
    {
      "cell_type": "code",
      "metadata": {
        "id": "w_KVlJxYpTVy"
      },
      "source": [
        ""
      ],
      "execution_count": null,
      "outputs": []
    }
  ]
}